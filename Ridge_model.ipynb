{
 "cells": [
  {
   "cell_type": "markdown",
   "metadata": {},
   "source": [
    "## Hyperparameter Optimization"
   ]
  },
  {
   "cell_type": "markdown",
   "metadata": {},
   "source": [
    "### General Libraries"
   ]
  },
  {
   "cell_type": "code",
   "execution_count": 46,
   "metadata": {},
   "outputs": [],
   "source": [
    "import pandas as pd\n",
    "import numpy as np\n",
    "import warnings\n",
    "import matplotlib.pyplot as plt\n",
    "\n",
    "warnings.filterwarnings(\"ignore\")"
   ]
  },
  {
   "cell_type": "markdown",
   "metadata": {},
   "source": [
    "### Constructing the classifier"
   ]
  },
  {
   "cell_type": "code",
   "execution_count": 47,
   "metadata": {},
   "outputs": [
    {
     "data": {
      "text/plain": [
       "(3300, 11)"
      ]
     },
     "execution_count": 47,
     "metadata": {},
     "output_type": "execute_result"
    }
   ],
   "source": [
    "# read the data\n",
    "df = pd.read_csv(\"./data/Latest_Data_Science_Salaries.csv\",sep=\";\")\n",
    "\n",
    "# check data frame shape\n",
    "df.shape"
   ]
  },
  {
   "cell_type": "code",
   "execution_count": 48,
   "metadata": {},
   "outputs": [],
   "source": [
    "def preprocessing(df):\n",
    "    \"\"\" \n",
    "        Cette methode permet de faire le preprocessing d'un dataset\n",
    "    \"\"\"\n",
    "    # colsReturns = getColumns(df,df.columns)\n",
    "\n",
    "    # newData = df[colsReturns]\n",
    "\n",
    "    newData = pd.get_dummies(df)\n",
    "\n",
    "    return newData"
   ]
  },
  {
   "cell_type": "code",
   "execution_count": 49,
   "metadata": {},
   "outputs": [],
   "source": [
    "df = preprocessing(df)"
   ]
  },
  {
   "cell_type": "code",
   "execution_count": 50,
   "metadata": {},
   "outputs": [],
   "source": [
    "def detect_outliers(df_detect_out) :\n",
    "    '''\n",
    "        Fonction permettant de detecter les valeurs aberrantes\n",
    "        @params df_detect_out est de type dataframme\n",
    "    '''\n",
    "    q1 = np.quantile(df_detect_out, 0.25)\n",
    "    q3 = np.quantile(df_detect_out, 0.75)\n",
    "    eiq= q3 - q1\n",
    "    li = q1 - (eiq * 1.5)\n",
    "    ls = q3 + (eiq * 1.5)\n",
    "    i  = list(df_detect_out.index[(df_detect_out<=li) | (df_detect_out>=ls)])\n",
    "    val= list(df_detect_out[i])\n",
    "    return i, val"
   ]
  },
  {
   "cell_type": "code",
   "execution_count": 51,
   "metadata": {},
   "outputs": [
    {
     "data": {
      "image/png": "[encoded data removed]",
      "text/plain": [
       "<Figure size 400x200 with 1 Axes>"
      ]
     },
     "metadata": {},
     "output_type": "display_data"
    },
    {
     "data": {
      "image/png": "[encoded data removed]",
      "text/plain": [
       "<Figure size 400x200 with 1 Axes>"
      ]
     },
     "metadata": {},
     "output_type": "display_data"
    },
    {
     "data": {
      "image/png": "[encoded data removed]",
      "text/plain": [
       "<Figure size 400x200 with 1 Axes>"
      ]
     },
     "metadata": {},
     "output_type": "display_data"
    }
   ],
   "source": [
    "\n",
    "index, val = detect_outliers(df[\"Salary\"])\n",
    "df.drop(index, axis=0, inplace=True)\n",
    "\n",
    "plt.figure(figsize=((4, 2)))\n",
    "plt.boxplot(df[\"Salary\"], vert=False)\n",
    "plt.show()\n",
    "\n",
    "\n",
    "index, val = detect_outliers(df[\"Salary\"])\n",
    "\n",
    "plt.figure(figsize=((4, 2)))\n",
    "plt.boxplot(df[\"Salary\"], vert=False)\n",
    "plt.show()\n",
    "\n",
    "\n",
    "index, val = detect_outliers(df[\"Salary\"])\n",
    "df.drop(index, axis=0, inplace=True)\n",
    "plt.figure(figsize=((4, 2)))\n",
    "plt.boxplot(df[\"Salary\"], vert=False)\n",
    "plt.show()"
   ]
  },
  {
   "cell_type": "code",
   "execution_count": 52,
   "metadata": {},
   "outputs": [],
   "source": [
    "from sklearn.model_selection import train_test_split\n",
    "\n",
    "# splitting data\n",
    "X = df.drop([\"Salary in USD\",\"Salary\"], 1)\n",
    "y = df[[\"Salary in USD\"]]\n",
    "\n",
    "# X_train, X_test, y_train, y_test = train_test_split(X, y, test_size=0.20,shuffle=False)"
   ]
  },
  {
   "cell_type": "code",
   "execution_count": 53,
   "metadata": {},
   "outputs": [
    {
     "data": {
      "text/html": [
       "<div>\n",
       "<style scoped>\n",
       "    .dataframe tbody tr th:only-of-type {\n",
       "        vertical-align: middle;\n",
       "    }\n",
       "\n",
       "    .dataframe tbody tr th {\n",
       "        vertical-align: top;\n",
       "    }\n",
       "\n",
       "    .dataframe thead th {\n",
       "        text-align: right;\n",
       "    }\n",
       "</style>\n",
       "<table border=\"1\" class=\"dataframe\">\n",
       "  <thead>\n",
       "    <tr style=\"text-align: right;\">\n",
       "      <th></th>\n",
       "      <th>Salary in USD</th>\n",
       "    </tr>\n",
       "  </thead>\n",
       "  <tbody>\n",
       "    <tr>\n",
       "      <th>0</th>\n",
       "      <td>210000</td>\n",
       "    </tr>\n",
       "    <tr>\n",
       "      <th>1</th>\n",
       "      <td>165000</td>\n",
       "    </tr>\n",
       "    <tr>\n",
       "      <th>2</th>\n",
       "      <td>185900</td>\n",
       "    </tr>\n",
       "    <tr>\n",
       "      <th>3</th>\n",
       "      <td>129300</td>\n",
       "    </tr>\n",
       "    <tr>\n",
       "      <th>4</th>\n",
       "      <td>140000</td>\n",
       "    </tr>\n",
       "    <tr>\n",
       "      <th>...</th>\n",
       "      <td>...</td>\n",
       "    </tr>\n",
       "    <tr>\n",
       "      <th>3293</th>\n",
       "      <td>28369</td>\n",
       "    </tr>\n",
       "    <tr>\n",
       "      <th>3294</th>\n",
       "      <td>165000</td>\n",
       "    </tr>\n",
       "    <tr>\n",
       "      <th>3296</th>\n",
       "      <td>151000</td>\n",
       "    </tr>\n",
       "    <tr>\n",
       "      <th>3297</th>\n",
       "      <td>105000</td>\n",
       "    </tr>\n",
       "    <tr>\n",
       "      <th>3298</th>\n",
       "      <td>100000</td>\n",
       "    </tr>\n",
       "  </tbody>\n",
       "</table>\n",
       "<p>3198 rows × 1 columns</p>\n",
       "</div>"
      ],
      "text/plain": [
       "      Salary in USD\n",
       "0            210000\n",
       "1            165000\n",
       "2            185900\n",
       "3            129300\n",
       "4            140000\n",
       "...             ...\n",
       "3293          28369\n",
       "3294         165000\n",
       "3296         151000\n",
       "3297         105000\n",
       "3298         100000\n",
       "\n",
       "[3198 rows x 1 columns]"
      ]
     },
     "execution_count": 53,
     "metadata": {},
     "output_type": "execute_result"
    }
   ],
   "source": [
    "y"
   ]
  },
  {
   "cell_type": "code",
   "execution_count": 54,
   "metadata": {},
   "outputs": [
    {
     "data": {
      "text/plain": [
       "Salary in USD\n",
       "100000           56\n",
       "200000           50\n",
       "150000           50\n",
       "120000           46\n",
       "110000           36\n",
       "                 ..\n",
       "147500            1\n",
       "79197             1\n",
       "147800            1\n",
       "79178             1\n",
       "133766            1\n",
       "Length: 1225, dtype: int64"
      ]
     },
     "execution_count": 54,
     "metadata": {},
     "output_type": "execute_result"
    }
   ],
   "source": [
    "y.value_counts()"
   ]
  },
  {
   "cell_type": "code",
   "execution_count": 55,
   "metadata": {},
   "outputs": [
    {
     "data": {
      "text/html": [
       "<div>\n",
       "<style scoped>\n",
       "    .dataframe tbody tr th:only-of-type {\n",
       "        vertical-align: middle;\n",
       "    }\n",
       "\n",
       "    .dataframe tbody tr th {\n",
       "        vertical-align: top;\n",
       "    }\n",
       "\n",
       "    .dataframe thead th {\n",
       "        text-align: right;\n",
       "    }\n",
       "</style>\n",
       "<table border=\"1\" class=\"dataframe\">\n",
       "  <thead>\n",
       "    <tr style=\"text-align: right;\">\n",
       "      <th></th>\n",
       "      <th>Year</th>\n",
       "      <th>Job Title_AI Architect</th>\n",
       "      <th>Job Title_AI Developer</th>\n",
       "      <th>Job Title_AI Programmer</th>\n",
       "      <th>Job Title_AI Scientist</th>\n",
       "      <th>Job Title_AWS Data Architect</th>\n",
       "      <th>Job Title_Analytics Engineer</th>\n",
       "      <th>Job Title_Analytics Engineering Manager</th>\n",
       "      <th>Job Title_Applied Data Scientist</th>\n",
       "      <th>Job Title_Applied Machine Learning Engineer</th>\n",
       "      <th>...</th>\n",
       "      <th>Employee Residence_Turkey</th>\n",
       "      <th>Employee Residence_Ukraine</th>\n",
       "      <th>Employee Residence_United Arab Emirates</th>\n",
       "      <th>Employee Residence_United Kingdom</th>\n",
       "      <th>Employee Residence_United States</th>\n",
       "      <th>Employee Residence_Uzbekistan</th>\n",
       "      <th>Employee Residence_Viet Nam</th>\n",
       "      <th>Company Size_Large</th>\n",
       "      <th>Company Size_Medium</th>\n",
       "      <th>Company Size_Small</th>\n",
       "    </tr>\n",
       "  </thead>\n",
       "  <tbody>\n",
       "    <tr>\n",
       "      <th>0</th>\n",
       "      <td>3</td>\n",
       "      <td>0</td>\n",
       "      <td>0</td>\n",
       "      <td>0</td>\n",
       "      <td>0</td>\n",
       "      <td>0</td>\n",
       "      <td>0</td>\n",
       "      <td>0</td>\n",
       "      <td>0</td>\n",
       "      <td>0</td>\n",
       "      <td>...</td>\n",
       "      <td>0</td>\n",
       "      <td>0</td>\n",
       "      <td>0</td>\n",
       "      <td>0</td>\n",
       "      <td>1</td>\n",
       "      <td>0</td>\n",
       "      <td>0</td>\n",
       "      <td>0</td>\n",
       "      <td>1</td>\n",
       "      <td>0</td>\n",
       "    </tr>\n",
       "    <tr>\n",
       "      <th>1</th>\n",
       "      <td>3</td>\n",
       "      <td>0</td>\n",
       "      <td>0</td>\n",
       "      <td>0</td>\n",
       "      <td>0</td>\n",
       "      <td>0</td>\n",
       "      <td>0</td>\n",
       "      <td>0</td>\n",
       "      <td>0</td>\n",
       "      <td>0</td>\n",
       "      <td>...</td>\n",
       "      <td>0</td>\n",
       "      <td>0</td>\n",
       "      <td>0</td>\n",
       "      <td>0</td>\n",
       "      <td>1</td>\n",
       "      <td>0</td>\n",
       "      <td>0</td>\n",
       "      <td>0</td>\n",
       "      <td>1</td>\n",
       "      <td>0</td>\n",
       "    </tr>\n",
       "    <tr>\n",
       "      <th>2</th>\n",
       "      <td>3</td>\n",
       "      <td>0</td>\n",
       "      <td>0</td>\n",
       "      <td>0</td>\n",
       "      <td>0</td>\n",
       "      <td>0</td>\n",
       "      <td>0</td>\n",
       "      <td>0</td>\n",
       "      <td>0</td>\n",
       "      <td>0</td>\n",
       "      <td>...</td>\n",
       "      <td>0</td>\n",
       "      <td>0</td>\n",
       "      <td>0</td>\n",
       "      <td>0</td>\n",
       "      <td>1</td>\n",
       "      <td>0</td>\n",
       "      <td>0</td>\n",
       "      <td>0</td>\n",
       "      <td>1</td>\n",
       "      <td>0</td>\n",
       "    </tr>\n",
       "    <tr>\n",
       "      <th>3</th>\n",
       "      <td>3</td>\n",
       "      <td>0</td>\n",
       "      <td>0</td>\n",
       "      <td>0</td>\n",
       "      <td>0</td>\n",
       "      <td>0</td>\n",
       "      <td>0</td>\n",
       "      <td>0</td>\n",
       "      <td>0</td>\n",
       "      <td>0</td>\n",
       "      <td>...</td>\n",
       "      <td>0</td>\n",
       "      <td>0</td>\n",
       "      <td>0</td>\n",
       "      <td>0</td>\n",
       "      <td>1</td>\n",
       "      <td>0</td>\n",
       "      <td>0</td>\n",
       "      <td>0</td>\n",
       "      <td>1</td>\n",
       "      <td>0</td>\n",
       "    </tr>\n",
       "    <tr>\n",
       "      <th>4</th>\n",
       "      <td>3</td>\n",
       "      <td>0</td>\n",
       "      <td>0</td>\n",
       "      <td>0</td>\n",
       "      <td>0</td>\n",
       "      <td>0</td>\n",
       "      <td>0</td>\n",
       "      <td>0</td>\n",
       "      <td>0</td>\n",
       "      <td>0</td>\n",
       "      <td>...</td>\n",
       "      <td>0</td>\n",
       "      <td>0</td>\n",
       "      <td>0</td>\n",
       "      <td>0</td>\n",
       "      <td>1</td>\n",
       "      <td>0</td>\n",
       "      <td>0</td>\n",
       "      <td>0</td>\n",
       "      <td>1</td>\n",
       "      <td>0</td>\n",
       "    </tr>\n",
       "    <tr>\n",
       "      <th>...</th>\n",
       "      <td>...</td>\n",
       "      <td>...</td>\n",
       "      <td>...</td>\n",
       "      <td>...</td>\n",
       "      <td>...</td>\n",
       "      <td>...</td>\n",
       "      <td>...</td>\n",
       "      <td>...</td>\n",
       "      <td>...</td>\n",
       "      <td>...</td>\n",
       "      <td>...</td>\n",
       "      <td>...</td>\n",
       "      <td>...</td>\n",
       "      <td>...</td>\n",
       "      <td>...</td>\n",
       "      <td>...</td>\n",
       "      <td>...</td>\n",
       "      <td>...</td>\n",
       "      <td>...</td>\n",
       "      <td>...</td>\n",
       "      <td>...</td>\n",
       "    </tr>\n",
       "    <tr>\n",
       "      <th>3293</th>\n",
       "      <td>1</td>\n",
       "      <td>0</td>\n",
       "      <td>0</td>\n",
       "      <td>0</td>\n",
       "      <td>0</td>\n",
       "      <td>0</td>\n",
       "      <td>0</td>\n",
       "      <td>0</td>\n",
       "      <td>0</td>\n",
       "      <td>0</td>\n",
       "      <td>...</td>\n",
       "      <td>0</td>\n",
       "      <td>0</td>\n",
       "      <td>0</td>\n",
       "      <td>0</td>\n",
       "      <td>0</td>\n",
       "      <td>0</td>\n",
       "      <td>0</td>\n",
       "      <td>1</td>\n",
       "      <td>0</td>\n",
       "      <td>0</td>\n",
       "    </tr>\n",
       "    <tr>\n",
       "      <th>3294</th>\n",
       "      <td>1</td>\n",
       "      <td>0</td>\n",
       "      <td>0</td>\n",
       "      <td>0</td>\n",
       "      <td>0</td>\n",
       "      <td>0</td>\n",
       "      <td>0</td>\n",
       "      <td>0</td>\n",
       "      <td>0</td>\n",
       "      <td>0</td>\n",
       "      <td>...</td>\n",
       "      <td>0</td>\n",
       "      <td>0</td>\n",
       "      <td>0</td>\n",
       "      <td>0</td>\n",
       "      <td>1</td>\n",
       "      <td>0</td>\n",
       "      <td>0</td>\n",
       "      <td>1</td>\n",
       "      <td>0</td>\n",
       "      <td>0</td>\n",
       "    </tr>\n",
       "    <tr>\n",
       "      <th>3296</th>\n",
       "      <td>1</td>\n",
       "      <td>0</td>\n",
       "      <td>0</td>\n",
       "      <td>0</td>\n",
       "      <td>0</td>\n",
       "      <td>0</td>\n",
       "      <td>0</td>\n",
       "      <td>0</td>\n",
       "      <td>0</td>\n",
       "      <td>0</td>\n",
       "      <td>...</td>\n",
       "      <td>0</td>\n",
       "      <td>0</td>\n",
       "      <td>0</td>\n",
       "      <td>0</td>\n",
       "      <td>1</td>\n",
       "      <td>0</td>\n",
       "      <td>0</td>\n",
       "      <td>1</td>\n",
       "      <td>0</td>\n",
       "      <td>0</td>\n",
       "    </tr>\n",
       "    <tr>\n",
       "      <th>3297</th>\n",
       "      <td>0</td>\n",
       "      <td>0</td>\n",
       "      <td>0</td>\n",
       "      <td>0</td>\n",
       "      <td>0</td>\n",
       "      <td>0</td>\n",
       "      <td>0</td>\n",
       "      <td>0</td>\n",
       "      <td>0</td>\n",
       "      <td>0</td>\n",
       "      <td>...</td>\n",
       "      <td>0</td>\n",
       "      <td>0</td>\n",
       "      <td>0</td>\n",
       "      <td>0</td>\n",
       "      <td>1</td>\n",
       "      <td>0</td>\n",
       "      <td>0</td>\n",
       "      <td>0</td>\n",
       "      <td>0</td>\n",
       "      <td>1</td>\n",
       "    </tr>\n",
       "    <tr>\n",
       "      <th>3298</th>\n",
       "      <td>0</td>\n",
       "      <td>0</td>\n",
       "      <td>0</td>\n",
       "      <td>0</td>\n",
       "      <td>0</td>\n",
       "      <td>0</td>\n",
       "      <td>0</td>\n",
       "      <td>0</td>\n",
       "      <td>0</td>\n",
       "      <td>0</td>\n",
       "      <td>...</td>\n",
       "      <td>0</td>\n",
       "      <td>0</td>\n",
       "      <td>0</td>\n",
       "      <td>0</td>\n",
       "      <td>1</td>\n",
       "      <td>0</td>\n",
       "      <td>0</td>\n",
       "      <td>1</td>\n",
       "      <td>0</td>\n",
       "      <td>0</td>\n",
       "    </tr>\n",
       "  </tbody>\n",
       "</table>\n",
       "<p>3198 rows × 303 columns</p>\n",
       "</div>"
      ],
      "text/plain": [
       "      Year  Job Title_AI Architect  Job Title_AI Developer  \\\n",
       "0        3                       0                       0   \n",
       "1        3                       0                       0   \n",
       "2        3                       0                       0   \n",
       "3        3                       0                       0   \n",
       "4        3                       0                       0   \n",
       "...    ...                     ...                     ...   \n",
       "3293     1                       0                       0   \n",
       "3294     1                       0                       0   \n",
       "3296     1                       0                       0   \n",
       "3297     0                       0                       0   \n",
       "3298     0                       0                       0   \n",
       "\n",
       "      Job Title_AI Programmer  Job Title_AI Scientist  \\\n",
       "0                           0                       0   \n",
       "1                           0                       0   \n",
       "2                           0                       0   \n",
       "3                           0                       0   \n",
       "4                           0                       0   \n",
       "...                       ...                     ...   \n",
       "3293                        0                       0   \n",
       "3294                        0                       0   \n",
       "3296                        0                       0   \n",
       "3297                        0                       0   \n",
       "3298                        0                       0   \n",
       "\n",
       "      Job Title_AWS Data Architect  Job Title_Analytics Engineer  \\\n",
       "0                                0                             0   \n",
       "1                                0                             0   \n",
       "2                                0                             0   \n",
       "3                                0                             0   \n",
       "4                                0                             0   \n",
       "...                            ...                           ...   \n",
       "3293                             0                             0   \n",
       "3294                             0                             0   \n",
       "3296                             0                             0   \n",
       "3297                             0                             0   \n",
       "3298                             0                             0   \n",
       "\n",
       "      Job Title_Analytics Engineering Manager  \\\n",
       "0                                           0   \n",
       "1                                           0   \n",
       "2                                           0   \n",
       "3                                           0   \n",
       "4                                           0   \n",
       "...                                       ...   \n",
       "3293                                        0   \n",
       "3294                                        0   \n",
       "3296                                        0   \n",
       "3297                                        0   \n",
       "3298                                        0   \n",
       "\n",
       "      Job Title_Applied Data Scientist  \\\n",
       "0                                    0   \n",
       "1                                    0   \n",
       "2                                    0   \n",
       "3                                    0   \n",
       "4                                    0   \n",
       "...                                ...   \n",
       "3293                                 0   \n",
       "3294                                 0   \n",
       "3296                                 0   \n",
       "3297                                 0   \n",
       "3298                                 0   \n",
       "\n",
       "      Job Title_Applied Machine Learning Engineer  ...  \\\n",
       "0                                               0  ...   \n",
       "1                                               0  ...   \n",
       "2                                               0  ...   \n",
       "3                                               0  ...   \n",
       "4                                               0  ...   \n",
       "...                                           ...  ...   \n",
       "3293                                            0  ...   \n",
       "3294                                            0  ...   \n",
       "3296                                            0  ...   \n",
       "3297                                            0  ...   \n",
       "3298                                            0  ...   \n",
       "\n",
       "      Employee Residence_Turkey  Employee Residence_Ukraine  \\\n",
       "0                             0                           0   \n",
       "1                             0                           0   \n",
       "2                             0                           0   \n",
       "3                             0                           0   \n",
       "4                             0                           0   \n",
       "...                         ...                         ...   \n",
       "3293                          0                           0   \n",
       "3294                          0                           0   \n",
       "3296                          0                           0   \n",
       "3297                          0                           0   \n",
       "3298                          0                           0   \n",
       "\n",
       "      Employee Residence_United Arab Emirates  \\\n",
       "0                                           0   \n",
       "1                                           0   \n",
       "2                                           0   \n",
       "3                                           0   \n",
       "4                                           0   \n",
       "...                                       ...   \n",
       "3293                                        0   \n",
       "3294                                        0   \n",
       "3296                                        0   \n",
       "3297                                        0   \n",
       "3298                                        0   \n",
       "\n",
       "      Employee Residence_United Kingdom  Employee Residence_United States  \\\n",
       "0                                     0                                 1   \n",
       "1                                     0                                 1   \n",
       "2                                     0                                 1   \n",
       "3                                     0                                 1   \n",
       "4                                     0                                 1   \n",
       "...                                 ...                               ...   \n",
       "3293                                  0                                 0   \n",
       "3294                                  0                                 1   \n",
       "3296                                  0                                 1   \n",
       "3297                                  0                                 1   \n",
       "3298                                  0                                 1   \n",
       "\n",
       "      Employee Residence_Uzbekistan  Employee Residence_Viet Nam  \\\n",
       "0                                 0                            0   \n",
       "1                                 0                            0   \n",
       "2                                 0                            0   \n",
       "3                                 0                            0   \n",
       "4                                 0                            0   \n",
       "...                             ...                          ...   \n",
       "3293                              0                            0   \n",
       "3294                              0                            0   \n",
       "3296                              0                            0   \n",
       "3297                              0                            0   \n",
       "3298                              0                            0   \n",
       "\n",
       "      Company Size_Large  Company Size_Medium  Company Size_Small  \n",
       "0                      0                    1                   0  \n",
       "1                      0                    1                   0  \n",
       "2                      0                    1                   0  \n",
       "3                      0                    1                   0  \n",
       "4                      0                    1                   0  \n",
       "...                  ...                  ...                 ...  \n",
       "3293                   1                    0                   0  \n",
       "3294                   1                    0                   0  \n",
       "3296                   1                    0                   0  \n",
       "3297                   0                    0                   1  \n",
       "3298                   1                    0                   0  \n",
       "\n",
       "[3198 rows x 303 columns]"
      ]
     },
     "execution_count": 55,
     "metadata": {},
     "output_type": "execute_result"
    }
   ],
   "source": [
    "from sklearn.preprocessing import LabelEncoder, OneHotEncoder\n",
    "labelEnc = LabelEncoder()\n",
    "X[\"Year\"] = labelEnc.fit_transform(X[\"Year\"])\n",
    "X"
   ]
  },
  {
   "cell_type": "code",
   "execution_count": 56,
   "metadata": {},
   "outputs": [],
   "source": [
    "X_train, X_test, y_train, y_test = train_test_split(X, y, test_size=0.20,shuffle=False)\n"
   ]
  },
  {
   "cell_type": "code",
   "execution_count": 57,
   "metadata": {},
   "outputs": [],
   "source": [
    "from sklearn.preprocessing import StandardScaler,RobustScaler,MinMaxScaler\n",
    "scaler = MinMaxScaler()\n",
    "\n",
    "X_train = scaler.fit_transform(X_train)\n",
    "X_test = scaler.fit_transform(X_test)"
   ]
  },
  {
   "cell_type": "markdown",
   "metadata": {},
   "source": [
    "### Hyperparameter Optimization"
   ]
  },
  {
   "cell_type": "markdown",
   "metadata": {},
   "source": [
    "#### Defining hyperparameter space"
   ]
  },
  {
   "cell_type": "code",
   "execution_count": 58,
   "metadata": {},
   "outputs": [],
   "source": [
    "hyperparameters = {\n",
    "    'alpha': [0.01, 0.1, 1.0, 10.0],        # Valeurs à essayer pour le paramètre alpha\n",
    "    'fit_intercept': [True, False],          # Essayer avec et sans l'intercept\n",
    "    'max_iter': [500, 1000, 2000],          # Essayer différentes valeurs pour le nombre maximal d'itérations\n",
    "    'tol': [0.001, 0.01],                  # Essayer différentes valeurs pour la tolérance\n",
    "    'solver': ['auto', 'svd', 'cholesky', 'lsqr', 'sag', 'saga'],  # Essayer différentes méthodes de résolution\n",
    "    'random_state': [42]                     # Fixer la graine aléatoire pour la reproductibilité des résultats\n",
    "}"
   ]
  },
  {
   "cell_type": "markdown",
   "metadata": {},
   "source": [
    "#### Random search"
   ]
  },
  {
   "cell_type": "code",
   "execution_count": 59,
   "metadata": {
    "scrolled": true
   },
   "outputs": [
    {
     "data": {
      "text/plain": [
       "{'tol': 0.01,\n",
       " 'solver': 'cholesky',\n",
       " 'random_state': 42,\n",
       " 'max_iter': 1000,\n",
       " 'fit_intercept': False,\n",
       " 'alpha': 10.0}"
      ]
     },
     "execution_count": 59,
     "metadata": {},
     "output_type": "execute_result"
    }
   ],
   "source": [
    "from sklearn.model_selection import RandomizedSearchCV\n",
    "from sklearn.linear_model import Ridge\n",
    "\n",
    "# perform random search\n",
    "clf_rs = RandomizedSearchCV(Ridge(), hyperparameters, cv = 5, n_iter = 20)\n",
    "random_search = clf_rs.fit(X_train, y_train)\n",
    "\n",
    "# identify best parameters from random search\n",
    "random_search.best_params_"
   ]
  },
  {
   "cell_type": "code",
   "execution_count": 60,
   "metadata": {},
   "outputs": [
    {
     "data": {
      "text/plain": [
       "0.4970473629321047"
      ]
     },
     "execution_count": 60,
     "metadata": {},
     "output_type": "execute_result"
    }
   ],
   "source": [
    "model_1 = Ridge(\n",
    "                alpha=random_search.best_params_[\"alpha\"],\n",
    "                fit_intercept=random_search.best_params_[\"fit_intercept\"],\n",
    "                max_iter=random_search.best_params_[\"max_iter\"],\n",
    "                tol=random_search.best_params_[\"tol\"],\n",
    "                solver=random_search.best_params_[\"solver\"],\n",
    "                random_state=random_search.best_params_[\"random_state\"]\n",
    "\n",
    "                \n",
    "                )\n",
    "model_1.fit(X_train,y_train)\n",
    "model_1.score(X_test,y_test)"
   ]
  },
  {
   "cell_type": "markdown",
   "metadata": {},
   "source": [
    "#### Grid search"
   ]
  },
  {
   "cell_type": "code",
   "execution_count": 61,
   "metadata": {},
   "outputs": [],
   "source": [
    "# from sklearn.model_selection import GridSearchCV\n",
    "\n",
    "# # perform grid search\n",
    "# clf_gs = GridSearchCV(Ridge(), hyperparameters, cv = 3)\n",
    "# grid_search = clf_gs.fit(X_train, y_train)\n",
    "\n",
    "# # identify best parameters from grid search\n",
    "# grid_search.best_params_"
   ]
  },
  {
   "cell_type": "code",
   "execution_count": 62,
   "metadata": {},
   "outputs": [],
   "source": [
    "# model_ridge1 = Ridge(\n",
    "#                     alpha=random_search.best_params_[\"alpha\"],\n",
    "#                     fit_intercept=random_search.best_params_[\"fit_intercept\"],\n",
    "#                     max_iter=random_search.best_params_[\"max_iter\"],\n",
    "#                     tol=random_search.best_params_[\"tol\"],\n",
    "#                     solver=random_search.best_params_[\"solver\"],\n",
    "#                     random_state=random_search.best_params_[\"random_state\"]\n",
    "#                 )\n",
    "# model_ridge1.fit(X_train,y_train)\n",
    "# model_ridge1.score(X_test,y_test)"
   ]
  },
  {
   "cell_type": "markdown",
   "metadata": {},
   "source": [
    "#### Bayesian Optimization"
   ]
  },
  {
   "cell_type": "code",
   "execution_count": 63,
   "metadata": {},
   "outputs": [
    {
     "data": {
      "text/plain": [
       "OrderedDict([('alpha', 10.0),\n",
       "             ('fit_intercept', False),\n",
       "             ('max_iter', 1000),\n",
       "             ('random_state', 42),\n",
       "             ('solver', 'saga'),\n",
       "             ('tol', 0.0021706091046280636)])"
      ]
     },
     "execution_count": 63,
     "metadata": {},
     "output_type": "execute_result"
    }
   ],
   "source": [
    "from skopt import BayesSearchCV\n",
    "\n",
    "# perform bayesian optimization\n",
    "clf_bo = BayesSearchCV(Ridge(), hyperparameters, cv =3,  n_iter = 20)\n",
    "bayes_search = clf_bo.fit(X_train, y_train)\n",
    "\n",
    "# identify best parameters from bayesian optimization\n",
    "bayes_search.best_params_"
   ]
  },
  {
   "cell_type": "code",
   "execution_count": 64,
   "metadata": {},
   "outputs": [
    {
     "data": {
      "text/plain": [
       "0.4970473629321047"
      ]
     },
     "execution_count": 64,
     "metadata": {},
     "output_type": "execute_result"
    }
   ],
   "source": [
    "model_ridge2 = Ridge(\n",
    "                    alpha=random_search.best_params_[\"alpha\"],\n",
    "                    fit_intercept=random_search.best_params_[\"fit_intercept\"],\n",
    "                    max_iter=random_search.best_params_[\"max_iter\"],\n",
    "                    tol=random_search.best_params_[\"tol\"],\n",
    "                    solver=random_search.best_params_[\"solver\"],\n",
    "                    random_state=random_search.best_params_[\"random_state\"]\n",
    "                )\n",
    "model_ridge2.fit(X_train,y_train)\n",
    "model_ridge2.score(X_test,y_test)"
   ]
  },
  {
   "cell_type": "code",
   "execution_count": null,
   "metadata": {},
   "outputs": [],
   "source": []
  }
 ],
 "metadata": {
  "kernelspec": {
   "display_name": "Python 3 (ipykernel)",
   "language": "python",
   "name": "python3"
  },
  "language_info": {
   "codemirror_mode": {
    "name": "ipython",
    "version": 3
   },
   "file_extension": ".py",
   "mimetype": "text/x-python",
   "name": "python",
   "nbconvert_exporter": "python",
   "pygments_lexer": "ipython3",
   "version": "3.10.9"
  }
 },
 "nbformat": 4,
 "nbformat_minor": 2
}
