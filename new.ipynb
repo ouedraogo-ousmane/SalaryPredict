{
 "cells": [
  {
   "cell_type": "code",
   "execution_count": null,
   "metadata": {},
   "outputs": [],
   "source": [
    "# definition parametres\n",
    "param_grid_lr = {}\n",
    "\n",
    "param_grid_rf = {\n",
    "    'n_estimators': [100, 200, 500],                \n",
    "    'max_depth': [10, 20, 50,100,500],                \n",
    "    'min_samples_split': [2, 5, 10],                \n",
    "    'min_samples_leaf': [1, 2, 4,10] \n",
    "}\n",
    "\n",
    "param_grid_gb = {\n",
    "    'learning_rate': [0.001, 0.01, 0.1, 0.2, 0.5],\n",
    "    'n_estimators': [50, 100, 200],\n",
    "    'subsample': [0.5, 0.8, 1.0],\n",
    "    'min_samples_split': [2, 5, 10],\n",
    "    'min_samples_leaf': [1, 2, 4],\n",
    "    'min_weight_fraction_leaf': [0.0, 0.1, 0.2],\n",
    "    'max_depth': [10, 20, 50,100,500],\n",
    "    'min_impurity_decrease': [0.0, 0.1, 0.2],\n",
    "    'alpha': [0.9, 0.95, 0.99]\n",
    "}\n",
    "\n",
    "param_grid_svr = {\n",
    "    'C': [1, 10, 100],\n",
    "    'epsilon': [0.1, 0.01, 0.001]\n",
    "}\n",
    "\n",
    "param_grid_dt = {\n",
    "    'max_depth':[10, 20, 50,100,500],\n",
    "    'min_samples_split': [2, 5, 10],\n",
    "    'min_samples_leaf': [1, 2, 4],\n",
    "    'splitter': ['best', 'random']\n",
    "}\n",
    "\n",
    "param_grid_rdge ={\n",
    "    'alpha': [0.01, 0.1, 1.0, 10.0],        \n",
    "    'fit_intercept': [True, False],          \n",
    "    'max_iter': [500, 1000, 2000],          \n",
    "    'tol': [0.001, 0.01],                  \n",
    "    'solver': ['auto', 'svd', 'cholesky', 'lsqr', 'sag', 'saga'], \n",
    "    'random_state': [42] \n",
    "}\n",
    "\n",
    "param_grid_xgb = {\n",
    "    'n_estimators': [100, 200, 300],\n",
    "    'learning_rate': [0.1, 0.05, 0.01],\n",
    "    'max_depth': [10, 20, 50,100,500]\n",
    "}\n",
    "\n",
    "param_grid_catboost = {\n",
    "    'iterations': [100, 200, 300],\n",
    "    'learning_rate': [0.1, 0.05, 0.01],\n",
    "    'depth':  [10, 20, 50,100,500]\n",
    "}\n",
    "\n",
    "# initiation des modèles\n",
    "linear_reg = LinearRegression()\n",
    "random_forest = RandomForestRegressor()\n",
    "gradient_boosting = GradientBoostingRegressor()\n",
    "tree_reg  = tree.DecisionTreeRegressor()\n",
    "svr = SVR()\n",
    "ridge_reg = Ridge()\n",
    "xgb_reg = xgb.XGBRegressor()\n",
    "catboost_reg = CatBoostRegressor()\n",
    "\n",
    "# gridschearcv\n",
    "# bayes_search_lr = BayesSearchCV(linear_reg)\n",
    "bayes_search_rf = BayesSearchCV(random_forest, param_grid_rf ,  cv =3,  n_iter = 20)\n",
    "bayes_search_gb = BayesSearchCV(gradient_boosting, param_grid_gb ,  cv =3,  n_iter = 20)\n",
    "bayes_search_svr = BayesSearchCV(svr, param_grid_svr ,  cv =3,  n_iter = 20)\n",
    "bayes_search_dtr = BayesSearchCV(tree_reg, param_grid_dt)\n",
    "bayes_search_rdg = BayesSearchCV(ridge_reg, param_grid_rdge ,  cv =3,  n_iter = 20)\n",
    "bayes_search_xgb = BayesSearchCV(xgb_reg, param_grid_xgb ,  cv =3,  n_iter = 20)\n",
    "bayes_search_catboost = BayesSearchCV(catboost_reg, param_grid_catboost ,  cv =3,  n_iter = 20)\n"
   ]
  },
  {
   "cell_type": "code",
   "execution_count": null,
   "metadata": {},
   "outputs": [],
   "source": [
    "bayes_search_rf.fit(x_train, y_train)\n",
    "bayes_search_gb.fit(x_train, y_train)\n",
    "bayes_search_svr.fit(x_train, y_train)\n",
    "bayes_search_rdg.fit(x_train, y_train)\n",
    "bayes_search_dtr.fit(x_train, y_train)\n"
   ]
  },
  {
   "cell_type": "code",
   "execution_count": null,
   "metadata": {},
   "outputs": [],
   "source": [
    "# score\n",
    "# print(\"Linear Regression - score (R2):\", bayes_search_lr.best_score_)\n",
    "\n",
    "print(\"Random Forest - score (R2):\", bayes_search_rf.best_score_)\n",
    "\n",
    "print(\"Gradient Boosting - score (R2):\", bayes_search_gb.best_score_)\n",
    "\n",
    "print(\"S V R- score (R2):\", bayes_search_svr.best_score_)\n",
    "\n",
    "print(\"DecisionTreeRegressor - score (R2):\", bayes_search_dtr.best_score_)\n",
    "\n",
    "print(\"Ridge - score (R2):\", bayes_search_rdg.best_score_)"
   ]
  },
  {
   "cell_type": "code",
   "execution_count": 2,
   "metadata": {},
   "outputs": [
    {
     "name": "stdout",
     "output_type": "stream",
     "text": [
      "Random Forest - score (R2): 0.34540184583584677\n",
      "Gradient Boosting - score (R2): 0.3608623261684955\n",
      "S V R- score (R2): 0.36272174978086386\n",
      "DecisionTreeRegressor - score (R2): 0.33014634182425506\n",
      "Ridge - score (R2): 0.37623442023500964\n"
     ]
    }
   ],
   "source": [
    "print(\"Random Forest - score (R2): 0.34540184583584677\")\n",
    "print(\"Gradient Boosting - score (R2): 0.3608623261684955\")\n",
    "print(\"S V R- score (R2): 0.36272174978086386\")\n",
    "print(\"DecisionTreeRegressor - score (R2): 0.33014634182425506\")\n",
    "print(\"Ridge - score (R2): 0.37623442023500964\")\n"
   ]
  },
  {
   "cell_type": "markdown",
   "metadata": {},
   "source": []
  }
 ],
 "metadata": {
  "kernelspec": {
   "display_name": "base",
   "language": "python",
   "name": "python3"
  },
  "language_info": {
   "codemirror_mode": {
    "name": "ipython",
    "version": 3
   },
   "file_extension": ".py",
   "mimetype": "text/x-python",
   "name": "python",
   "nbconvert_exporter": "python",
   "pygments_lexer": "ipython3",
   "version": "3.10.9"
  },
  "orig_nbformat": 4
 },
 "nbformat": 4,
 "nbformat_minor": 2
}
